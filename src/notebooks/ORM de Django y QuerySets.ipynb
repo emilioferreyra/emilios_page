{
 "cells": [
  {
   "cell_type": "markdown",
   "id": "9488eb0c",
   "metadata": {},
   "source": [
    "## ORM de Django y QuerySets"
   ]
  },
  {
   "cell_type": "markdown",
   "id": "40a1ad14",
   "metadata": {},
   "source": [
    "Primero debemos utilizar el siguiente troso de código para integrar Django en Jupyter Notebook "
   ]
  },
  {
   "cell_type": "code",
   "execution_count": 1,
   "id": "3aeee0f8",
   "metadata": {},
   "outputs": [],
   "source": [
    "import os\n",
    "import django\n",
    "os.environ.setdefault('DJANGO_SETTINGS_MODULE', 'rest.settings')\n",
    "os.environ[\"DJANGO_ALLOW_ASYNC_UNSAFE\"] = \"true\"\n",
    "django.setup()"
   ]
  },
  {
   "cell_type": "markdown",
   "id": "459406db",
   "metadata": {},
   "source": [
    "Importamos el modelo `Post` desde nuestra app `blog`"
   ]
  },
  {
   "cell_type": "code",
   "execution_count": 2,
   "id": "bd289d1a",
   "metadata": {},
   "outputs": [
    {
     "data": {
      "text/plain": [
       "<QuerySet [<Post: Mi primer post>, <Post: Mi segundo post>, <Post: Título de ejemplo>, <Post: Título de ejemplo>]>"
      ]
     },
     "execution_count": 2,
     "metadata": {},
     "output_type": "execute_result"
    }
   ],
   "source": [
    "from blog.models import Post\n",
    "\n",
    "post = Post.objects.all()\n",
    "\n",
    "post"
   ]
  },
  {
   "cell_type": "markdown",
   "id": "00c1b8b6",
   "metadata": {},
   "source": [
    "Importamos los usuarios desde el modelo `User` de Django"
   ]
  },
  {
   "cell_type": "code",
   "execution_count": 3,
   "id": "3b4f03d5",
   "metadata": {},
   "outputs": [
    {
     "data": {
      "text/plain": [
       "<QuerySet [<User: admin>, <User: emilioferreyra@gmail.com>]>"
      ]
     },
     "execution_count": 3,
     "metadata": {},
     "output_type": "execute_result"
    }
   ],
   "source": [
    "from django.contrib.auth.models import User\n",
    "\n",
    "User.objects.all()"
   ]
  },
  {
   "cell_type": "markdown",
   "id": "711c44ee",
   "metadata": {},
   "source": [
    "Definimos la variable `yo` usando el primer nombre de mi usuario."
   ]
  },
  {
   "cell_type": "code",
   "execution_count": 4,
   "id": "a372383c",
   "metadata": {},
   "outputs": [],
   "source": [
    "yo = User.objects.get(first_name='Emilio')"
   ]
  },
  {
   "cell_type": "markdown",
   "id": "65d55632",
   "metadata": {},
   "source": [
    "Creamos una nueva entrada en la base de datos:"
   ]
  },
  {
   "cell_type": "code",
   "execution_count": 5,
   "id": "26d7748d",
   "metadata": {},
   "outputs": [
    {
     "data": {
      "text/plain": [
       "<Post: Título de ejemplo>"
      ]
     },
     "execution_count": 5,
     "metadata": {},
     "output_type": "execute_result"
    }
   ],
   "source": [
    "Post.objects.create(author=yo, title='Título de ejemplo', text='Prueba de contendido de post')"
   ]
  },
  {
   "cell_type": "markdown",
   "id": "51d9a2df",
   "metadata": {},
   "source": [
    "Consultamos nuevamente los registros del modelo `Post`."
   ]
  },
  {
   "cell_type": "code",
   "execution_count": 6,
   "id": "bb64d222",
   "metadata": {},
   "outputs": [
    {
     "data": {
      "text/plain": [
       "<QuerySet [<Post: Mi primer post>, <Post: Mi segundo post>, <Post: Título de ejemplo>, <Post: Título de ejemplo>, <Post: Título de ejemplo>]>"
      ]
     },
     "execution_count": 6,
     "metadata": {},
     "output_type": "execute_result"
    }
   ],
   "source": [
    "Post.objects.all()"
   ]
  },
  {
   "cell_type": "markdown",
   "id": "8bbe5dc2",
   "metadata": {},
   "source": [
    "Vemos como fue creada la nueva entrada `Titulo de ejemplo`"
   ]
  },
  {
   "cell_type": "markdown",
   "id": "fe1fb7af",
   "metadata": {},
   "source": [
    "## Ordenar objetos"
   ]
  },
  {
   "cell_type": "code",
   "execution_count": 7,
   "id": "24160d9c",
   "metadata": {},
   "outputs": [
    {
     "data": {
      "text/plain": [
       "<QuerySet [<Post: Mi primer post>, <Post: Mi segundo post>, <Post: Título de ejemplo>, <Post: Título de ejemplo>, <Post: Título de ejemplo>]>"
      ]
     },
     "execution_count": 7,
     "metadata": {},
     "output_type": "execute_result"
    }
   ],
   "source": [
    "Post.objects.order_by('created_date')"
   ]
  },
  {
   "cell_type": "markdown",
   "id": "01e0cc05",
   "metadata": {},
   "source": [
    "También podemos invertir el orden agregando - al principio:"
   ]
  },
  {
   "cell_type": "code",
   "execution_count": 8,
   "id": "f6c1f75c",
   "metadata": {},
   "outputs": [
    {
     "data": {
      "text/plain": [
       "<QuerySet [<Post: Título de ejemplo>, <Post: Título de ejemplo>, <Post: Título de ejemplo>, <Post: Mi segundo post>, <Post: Mi primer post>]>"
      ]
     },
     "execution_count": 8,
     "metadata": {},
     "output_type": "execute_result"
    }
   ],
   "source": [
    "Post.objects.order_by('-created_date')"
   ]
  },
  {
   "cell_type": "markdown",
   "id": "6df17ad3",
   "metadata": {},
   "source": [
    "## Consultas complejas a través de encadenamiento de métodos"
   ]
  },
  {
   "cell_type": "code",
   "execution_count": 10,
   "id": "708f2e3f",
   "metadata": {},
   "outputs": [
    {
     "data": {
      "text/plain": [
       "<QuerySet [<Post: Título de ejemplo>, <Post: Título de ejemplo>, <Post: Mi primer post>, <Post: Mi segundo post>]>"
      ]
     },
     "execution_count": 10,
     "metadata": {},
     "output_type": "execute_result"
    }
   ],
   "source": [
    "Post.objects.filter(published_date__lte=timezone.now()).order_by('-published_date')"
   ]
  },
  {
   "cell_type": "code",
   "execution_count": null,
   "id": "9a004da3",
   "metadata": {},
   "outputs": [],
   "source": []
  }
 ],
 "metadata": {
  "kernelspec": {
   "display_name": "Django Shell-Plus",
   "language": "python",
   "name": "django_extensions"
  },
  "language_info": {
   "codemirror_mode": {
    "name": "ipython",
    "version": 3
   },
   "file_extension": ".py",
   "mimetype": "text/x-python",
   "name": "python",
   "nbconvert_exporter": "python",
   "pygments_lexer": "ipython3",
   "version": "3.8.10"
  }
 },
 "nbformat": 4,
 "nbformat_minor": 5
}
